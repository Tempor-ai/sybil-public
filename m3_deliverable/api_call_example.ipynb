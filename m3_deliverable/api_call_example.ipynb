{
 "cells": [
  {
   "cell_type": "markdown",
   "id": "48e57c5e-f2f9-448c-8901-e27610b878d5",
   "metadata": {},
   "source": [
    "Check Python version"
   ]
  },
  {
   "cell_type": "code",
   "execution_count": 1,
   "id": "c00c0a6f-c24c-4255-a430-6f89264a5a41",
   "metadata": {},
   "outputs": [
    {
     "name": "stdout",
     "output_type": "stream",
     "text": [
      "Python 3.9.12\n"
     ]
    }
   ],
   "source": [
    "!python --version"
   ]
  },
  {
   "cell_type": "markdown",
   "id": "6173c739-e07c-46f5-9841-a6c7d7f1b4ff",
   "metadata": {},
   "source": [
    "Import libraries"
   ]
  },
  {
   "cell_type": "code",
   "execution_count": 2,
   "id": "4c7954a0-e6b4-4fa1-962b-83141e8b19cc",
   "metadata": {},
   "outputs": [],
   "source": [
    "import json\n",
    "import yaml\n",
    "import requests\n",
    "import pandas as pd\n",
    "import matplotlib.pyplot as plt\n",
    "import seaborn as sns\n",
    "sns.set()"
   ]
  },
  {
   "cell_type": "markdown",
   "id": "4b126246-b152-4de2-a39d-21feb5d6f6d2",
   "metadata": {},
   "source": [
    "### **Extract Data**"
   ]
  },
  {
   "cell_type": "code",
   "execution_count": 3,
   "id": "a1f7662e-1117-4a4b-9118-09faa296ccf9",
   "metadata": {},
   "outputs": [],
   "source": [
    "# Through online GitHub\n",
    "# Credit: Oskar T. (ourownstory)\n",
    "file_path = \"https://github.com/ourownstory/neuralprophet-data/raw/main/datasets/air_passengers.csv\""
   ]
  },
  {
   "cell_type": "code",
   "execution_count": 4,
   "id": "437651ae-7fe0-4adb-b614-607e663b735c",
   "metadata": {},
   "outputs": [],
   "source": [
    "train_df = pd.read_csv(file_path)"
   ]
  },
  {
   "cell_type": "code",
   "execution_count": 5,
   "id": "53700774-809a-4cd9-a385-e155c2d99236",
   "metadata": {},
   "outputs": [
    {
     "data": {
      "text/plain": [
       "(144, 2)"
      ]
     },
     "execution_count": 5,
     "metadata": {},
     "output_type": "execute_result"
    }
   ],
   "source": [
    "train_df.shape"
   ]
  },
  {
   "cell_type": "code",
   "execution_count": 6,
   "id": "114fc37e-da5d-4764-bb26-3fab6a761c54",
   "metadata": {},
   "outputs": [
    {
     "data": {
      "text/plain": [
       "Index(['ds', 'y'], dtype='object')"
      ]
     },
     "execution_count": 6,
     "metadata": {},
     "output_type": "execute_result"
    }
   ],
   "source": [
    "train_df.columns"
   ]
  },
  {
   "cell_type": "code",
   "execution_count": 7,
   "id": "5d0d9da3-5d20-4c88-b821-b8066cfe4399",
   "metadata": {},
   "outputs": [
    {
     "data": {
      "text/html": [
       "<div>\n",
       "<style scoped>\n",
       "    .dataframe tbody tr th:only-of-type {\n",
       "        vertical-align: middle;\n",
       "    }\n",
       "\n",
       "    .dataframe tbody tr th {\n",
       "        vertical-align: top;\n",
       "    }\n",
       "\n",
       "    .dataframe thead th {\n",
       "        text-align: right;\n",
       "    }\n",
       "</style>\n",
       "<table border=\"1\" class=\"dataframe\">\n",
       "  <thead>\n",
       "    <tr style=\"text-align: right;\">\n",
       "      <th></th>\n",
       "      <th>ds</th>\n",
       "      <th>y</th>\n",
       "    </tr>\n",
       "  </thead>\n",
       "  <tbody>\n",
       "    <tr>\n",
       "      <th>0</th>\n",
       "      <td>1949-01-01</td>\n",
       "      <td>112</td>\n",
       "    </tr>\n",
       "    <tr>\n",
       "      <th>1</th>\n",
       "      <td>1949-02-01</td>\n",
       "      <td>118</td>\n",
       "    </tr>\n",
       "    <tr>\n",
       "      <th>2</th>\n",
       "      <td>1949-03-01</td>\n",
       "      <td>132</td>\n",
       "    </tr>\n",
       "    <tr>\n",
       "      <th>3</th>\n",
       "      <td>1949-04-01</td>\n",
       "      <td>129</td>\n",
       "    </tr>\n",
       "    <tr>\n",
       "      <th>4</th>\n",
       "      <td>1949-05-01</td>\n",
       "      <td>121</td>\n",
       "    </tr>\n",
       "  </tbody>\n",
       "</table>\n",
       "</div>"
      ],
      "text/plain": [
       "           ds    y\n",
       "0  1949-01-01  112\n",
       "1  1949-02-01  118\n",
       "2  1949-03-01  132\n",
       "3  1949-04-01  129\n",
       "4  1949-05-01  121"
      ]
     },
     "execution_count": 7,
     "metadata": {},
     "output_type": "execute_result"
    }
   ],
   "source": [
    "train_df.head()"
   ]
  },
  {
   "cell_type": "code",
   "execution_count": 8,
   "id": "0a4ec852-b801-49fd-a130-075895b7db94",
   "metadata": {},
   "outputs": [
    {
     "data": {
      "text/html": [
       "<div>\n",
       "<style scoped>\n",
       "    .dataframe tbody tr th:only-of-type {\n",
       "        vertical-align: middle;\n",
       "    }\n",
       "\n",
       "    .dataframe tbody tr th {\n",
       "        vertical-align: top;\n",
       "    }\n",
       "\n",
       "    .dataframe thead th {\n",
       "        text-align: right;\n",
       "    }\n",
       "</style>\n",
       "<table border=\"1\" class=\"dataframe\">\n",
       "  <thead>\n",
       "    <tr style=\"text-align: right;\">\n",
       "      <th></th>\n",
       "      <th>ds</th>\n",
       "      <th>y</th>\n",
       "    </tr>\n",
       "  </thead>\n",
       "  <tbody>\n",
       "    <tr>\n",
       "      <th>139</th>\n",
       "      <td>1960-08-01</td>\n",
       "      <td>606</td>\n",
       "    </tr>\n",
       "    <tr>\n",
       "      <th>140</th>\n",
       "      <td>1960-09-01</td>\n",
       "      <td>508</td>\n",
       "    </tr>\n",
       "    <tr>\n",
       "      <th>141</th>\n",
       "      <td>1960-10-01</td>\n",
       "      <td>461</td>\n",
       "    </tr>\n",
       "    <tr>\n",
       "      <th>142</th>\n",
       "      <td>1960-11-01</td>\n",
       "      <td>390</td>\n",
       "    </tr>\n",
       "    <tr>\n",
       "      <th>143</th>\n",
       "      <td>1960-12-01</td>\n",
       "      <td>432</td>\n",
       "    </tr>\n",
       "  </tbody>\n",
       "</table>\n",
       "</div>"
      ],
      "text/plain": [
       "             ds    y\n",
       "139  1960-08-01  606\n",
       "140  1960-09-01  508\n",
       "141  1960-10-01  461\n",
       "142  1960-11-01  390\n",
       "143  1960-12-01  432"
      ]
     },
     "execution_count": 8,
     "metadata": {},
     "output_type": "execute_result"
    }
   ],
   "source": [
    "train_df.tail()"
   ]
  },
  {
   "cell_type": "markdown",
   "id": "92d1f999-8159-4f3e-9cd6-9b00bff324f9",
   "metadata": {},
   "source": [
    "Change 'y' to float"
   ]
  },
  {
   "cell_type": "code",
   "execution_count": 9,
   "id": "dba6f91b-6139-4664-87b1-7859b3b305a6",
   "metadata": {},
   "outputs": [],
   "source": [
    "train_df[\"y\"] = train_df[\"y\"].astype(float)"
   ]
  },
  {
   "cell_type": "code",
   "execution_count": 10,
   "id": "7a2c4026-c7f0-4ba9-8481-adf16e88d9f2",
   "metadata": {},
   "outputs": [
    {
     "data": {
      "text/html": [
       "<div>\n",
       "<style scoped>\n",
       "    .dataframe tbody tr th:only-of-type {\n",
       "        vertical-align: middle;\n",
       "    }\n",
       "\n",
       "    .dataframe tbody tr th {\n",
       "        vertical-align: top;\n",
       "    }\n",
       "\n",
       "    .dataframe thead th {\n",
       "        text-align: right;\n",
       "    }\n",
       "</style>\n",
       "<table border=\"1\" class=\"dataframe\">\n",
       "  <thead>\n",
       "    <tr style=\"text-align: right;\">\n",
       "      <th></th>\n",
       "      <th>ds</th>\n",
       "      <th>y</th>\n",
       "    </tr>\n",
       "  </thead>\n",
       "  <tbody>\n",
       "    <tr>\n",
       "      <th>0</th>\n",
       "      <td>1949-01-01</td>\n",
       "      <td>112.0</td>\n",
       "    </tr>\n",
       "    <tr>\n",
       "      <th>1</th>\n",
       "      <td>1949-02-01</td>\n",
       "      <td>118.0</td>\n",
       "    </tr>\n",
       "    <tr>\n",
       "      <th>2</th>\n",
       "      <td>1949-03-01</td>\n",
       "      <td>132.0</td>\n",
       "    </tr>\n",
       "    <tr>\n",
       "      <th>3</th>\n",
       "      <td>1949-04-01</td>\n",
       "      <td>129.0</td>\n",
       "    </tr>\n",
       "    <tr>\n",
       "      <th>4</th>\n",
       "      <td>1949-05-01</td>\n",
       "      <td>121.0</td>\n",
       "    </tr>\n",
       "  </tbody>\n",
       "</table>\n",
       "</div>"
      ],
      "text/plain": [
       "           ds      y\n",
       "0  1949-01-01  112.0\n",
       "1  1949-02-01  118.0\n",
       "2  1949-03-01  132.0\n",
       "3  1949-04-01  129.0\n",
       "4  1949-05-01  121.0"
      ]
     },
     "execution_count": 10,
     "metadata": {},
     "output_type": "execute_result"
    }
   ],
   "source": [
    "train_df.head()"
   ]
  },
  {
   "cell_type": "markdown",
   "id": "e56d7165-c252-4ea5-9981-7a22df96122e",
   "metadata": {},
   "source": [
    "Plot graph"
   ]
  },
  {
   "cell_type": "code",
   "execution_count": 11,
   "id": "30aac931-4d19-450a-ad79-fbaac30aa705",
   "metadata": {},
   "outputs": [
    {
     "data": {
      "image/png": "[encoded data removed]",
      "text/plain": [
       "<Figure size 1152x576 with 1 Axes>"
      ]
     },
     "metadata": {
      "needs_background": "light"
     },
     "output_type": "display_data"
    }
   ],
   "source": [
    "figsize = (16, 8)\n",
    "train_df.set_index(\"ds\").plot(figsize=figsize);"
   ]
  },
  {
   "cell_type": "markdown",
   "id": "7c3bd0f2-f6f4-49fd-b38a-9edd670a6fef",
   "metadata": {},
   "source": [
    "### **Train API**"
   ]
  },
  {
   "cell_type": "markdown",
   "id": "34362404-30a1-469f-914c-2baf85cc3be1",
   "metadata": {},
   "source": [
    "Train data: convert df to list-of-list"
   ]
  },
  {
   "cell_type": "code",
   "execution_count": 12,
   "id": "22347890-f3f5-48bf-b037-0f1d48458c2d",
   "metadata": {},
   "outputs": [],
   "source": [
    "train_data = []"
   ]
  },
  {
   "cell_type": "code",
   "execution_count": 13,
   "id": "431b90c2-d4a8-4acd-969c-a357eea54db7",
   "metadata": {},
   "outputs": [],
   "source": [
    "for value in train_df.values:\n",
    "    train_data.append(list(value))"
   ]
  },
  {
   "cell_type": "code",
   "execution_count": 14,
   "id": "5c04373b-1857-42b2-8e5c-0e7a51cddf75",
   "metadata": {},
   "outputs": [
    {
     "data": {
      "text/plain": [
       "[['1949-01-01', 112.0],\n",
       " ['1949-02-01', 118.0],\n",
       " ['1949-03-01', 132.0],\n",
       " ['1949-04-01', 129.0],\n",
       " ['1949-05-01', 121.0],\n",
       " ['1949-06-01', 135.0],\n",
       " ['1949-07-01', 148.0],\n",
       " ['1949-08-01', 148.0],\n",
       " ['1949-09-01', 136.0],\n",
       " ['1949-10-01', 119.0]]"
      ]
     },
     "execution_count": 14,
     "metadata": {},
     "output_type": "execute_result"
    }
   ],
   "source": [
    "train_data[:10]"
   ]
  },
  {
   "cell_type": "markdown",
   "id": "622db7d3-3432-44b3-90ae-f08f34ca904e",
   "metadata": {},
   "source": [
    "Custom Model Request (optional)"
   ]
  },
  {
   "cell_type": "code",
   "execution_count": 15,
   "id": "e0faaf9c-4330-4cfe-9c12-ac230a638a2a",
   "metadata": {},
   "outputs": [],
   "source": [
    "# Default model request\n",
    "model_request = {\n",
    "    'type': 'darts_autotheta',\n",
    "    'score': ['mape'],\n",
    "    'param': None,\n",
    "}\n",
    "\n",
    "# Custom model request\n",
    "# model_request = {\n",
    "#     'type': 'meta_wa',\n",
    "#     'score': ['smape', 'mape'],\n",
    "#     'param': {\n",
    "#         'base_models': [\n",
    "#             {'type': 'darts_autoarima'},\n",
    "#             {'type': 'darts_autotheta'},\n",
    "#             {'type': 'darts_autoets'},\n",
    "#             {'type': 'stats_autotheta'},\n",
    "#         ]\n",
    "#     },\n",
    "# }"
   ]
  },
  {
   "cell_type": "markdown",
   "id": "5791ee3c-4e12-4240-996a-68ef15dd86f9",
   "metadata": {},
   "source": [
    "Train API JSON Payload"
   ]
  },
  {
   "cell_type": "code",
   "execution_count": 16,
   "id": "01012159-6fc7-43ee-ae3b-6eb5307e9e04",
   "metadata": {},
   "outputs": [],
   "source": [
    "api_json = {\n",
    "    'data': train_data,\n",
    "    # 'model': model_request,  # (optional) can be commented out\n",
    "}"
   ]
  },
  {
   "cell_type": "markdown",
   "id": "754a97b7-b291-4263-a071-23d27f566417",
   "metadata": {},
   "source": [
    "Build URL"
   ]
  },
  {
   "cell_type": "code",
   "execution_count": 17,
   "id": "af5f0801-cf06-491f-819e-dba5ccdf0e97",
   "metadata": {},
   "outputs": [],
   "source": [
    "with open('url.yaml', 'r') as file:\n",
    "    url_dict = yaml.safe_load(file)"
   ]
  },
  {
   "cell_type": "code",
   "execution_count": 18,
   "id": "3b4738ba-1d32-4d6c-a2dd-5ac07ad055f6",
   "metadata": {},
   "outputs": [],
   "source": [
    "# URL to our SYBIL AWS service\n",
    "protocol = url_dict[\"protocol\"]\n",
    "host = url_dict[\"host\"]\n",
    "port = url_dict[\"port\"]\n",
    "endpoint = \"train\"\n",
    "\n",
    "url = \"%s://%s:%s/%s\" % (protocol, host, str(port), endpoint)"
   ]
  },
  {
   "cell_type": "markdown",
   "id": "29d6d0a2-a726-4ae9-b6ef-ae91a6bb89e5",
   "metadata": {},
   "source": [
    "Call endpoint, receive response JSON, write to output file"
   ]
  },
  {
   "cell_type": "code",
   "execution_count": 19,
   "id": "bda53dfa-829f-4458-aff9-c1d24bdb6258",
   "metadata": {},
   "outputs": [
    {
     "name": "stdout",
     "output_type": "stream",
     "text": [
      "CPU times: user 17.3 ms, sys: 490 µs, total: 17.8 ms\n",
      "Wall time: 165 ms\n"
     ]
    },
    {
     "name": "stderr",
     "output_type": "stream",
     "text": [
      "/home/studio-lab-user/.conda/envs/dev/lib/python3.9/site-packages/urllib3/connectionpool.py:1043: InsecureRequestWarning: Unverified HTTPS request is being made to host 'sybil.tempor.ai'. Adding certificate verification is strongly advised. See: https://urllib3.readthedocs.io/en/1.26.x/advanced-usage.html#ssl-warnings\n",
      "  warnings.warn(\n"
     ]
    }
   ],
   "source": [
    "%%time\n",
    "# TODO: gain a accredited cert and remove verify=False\n",
    "response = requests.post(url, json=api_json, verify=False)"
   ]
  },
  {
   "cell_type": "code",
   "execution_count": 20,
   "id": "a9b0c75a-25ab-47c5-a1db-e7296a3f3a20",
   "metadata": {},
   "outputs": [],
   "source": [
    "train_json_out = response.json()  # dict output\n",
    "# train_json_out = json.dumps(response.json())  # str output\n",
    "# train_json_out = json.dumps(response.json(), indent=4)  # str output w tabs"
   ]
  },
  {
   "cell_type": "code",
   "execution_count": 21,
   "id": "8f6ecd72-e91e-4c3b-b8cd-b26e75ed2386",
   "metadata": {},
   "outputs": [
    {
     "data": {
      "text/plain": [
       "{'model': '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',\n",
       " 'type': 'darts_autotheta',\n",
       " 'evaluation': [{'type': 'mape', 'value': 3.595695788078683}]}"
      ]
     },
     "execution_count": 21,
     "metadata": {},
     "output_type": "execute_result"
    }
   ],
   "source": [
    "train_json_out"
   ]
  },
  {
   "cell_type": "markdown",
   "id": "a5f8d92a-2ec6-438b-a756-bd956030bb2a",
   "metadata": {},
   "source": [
    "### **Forecast API**"
   ]
  },
  {
   "cell_type": "markdown",
   "id": "2a2598a4-6c6a-40dc-bc45-82fa0cc662eb",
   "metadata": {},
   "source": [
    "Forecast Dates: predict the next 2 years of air passenger data (1961-1962)"
   ]
  },
  {
   "cell_type": "code",
   "execution_count": 22,
   "id": "138b6ede-3d9b-4d80-8d26-c3cabd21be66",
   "metadata": {},
   "outputs": [],
   "source": [
    "dates = [\n",
    "    \"1961-01-01\", \"1961-02-01\", \"1961-03-01\", \"1961-04-01\", \"1961-05-01\", \"1961-06-01\",\n",
    "    \"1961-07-01\", \"1961-08-01\", \"1961-09-01\", \"1961-10-01\", \"1961-11-01\", \"1961-12-01\",\n",
    "    \"1962-01-01\", \"1962-02-01\", \"1962-03-01\", \"1962-04-01\", \"1962-05-01\", \"1962-06-01\",\n",
    "    \"1962-07-01\", \"1962-08-01\", \"1962-09-01\", \"1962-10-01\", \"1962-11-01\", \"1962-12-01\",\n",
    "]"
   ]
  },
  {
   "cell_type": "markdown",
   "id": "9c54f592-5262-46ec-b651-555edd2edb49",
   "metadata": {},
   "source": [
    "Model from Train API"
   ]
  },
  {
   "cell_type": "code",
   "execution_count": 23,
   "id": "44037535-5b07-40e2-b6a7-3e301d19deda",
   "metadata": {},
   "outputs": [],
   "source": [
    "model = train_json_out[\"model\"]"
   ]
  },
  {
   "cell_type": "markdown",
   "id": "ab30f283-f727-4d4e-8a92-791318ede6b4",
   "metadata": {},
   "source": [
    "Forecast API JSON Payload"
   ]
  },
  {
   "cell_type": "code",
   "execution_count": 24,
   "id": "1fc68132-9353-4951-bed3-6b916eb52e44",
   "metadata": {},
   "outputs": [],
   "source": [
    "api_json = {\n",
    "    'model': model,\n",
    "    'predicts': dates\n",
    "}"
   ]
  },
  {
   "cell_type": "markdown",
   "id": "72336096-face-429d-99e7-70e55f79449f",
   "metadata": {},
   "source": [
    "Build URL (same as train except for the endpoint)"
   ]
  },
  {
   "cell_type": "code",
   "execution_count": 25,
   "id": "98888d03-d90d-4694-a648-7ec375dd2c75",
   "metadata": {},
   "outputs": [],
   "source": [
    "endpoint = \"forecast\"\n",
    "\n",
    "url = \"%s://%s:%s/%s\" % (protocol, host, str(port), endpoint)"
   ]
  },
  {
   "cell_type": "markdown",
   "id": "8bfd1167-c0ef-4404-a9d4-441dbcdb9864",
   "metadata": {},
   "source": [
    "Call endpoint, receive response JSON, write to output file"
   ]
  },
  {
   "cell_type": "code",
   "execution_count": 26,
   "id": "443ff168-22e0-42c4-8e93-742a3293cc81",
   "metadata": {},
   "outputs": [
    {
     "name": "stdout",
     "output_type": "stream",
     "text": [
      "CPU times: user 15.3 ms, sys: 1.14 ms, total: 16.4 ms\n",
      "Wall time: 72.4 ms\n"
     ]
    },
    {
     "name": "stderr",
     "output_type": "stream",
     "text": [
      "/home/studio-lab-user/.conda/envs/dev/lib/python3.9/site-packages/urllib3/connectionpool.py:1043: InsecureRequestWarning: Unverified HTTPS request is being made to host 'sybil.tempor.ai'. Adding certificate verification is strongly advised. See: https://urllib3.readthedocs.io/en/1.26.x/advanced-usage.html#ssl-warnings\n",
      "  warnings.warn(\n"
     ]
    }
   ],
   "source": [
    "%%time\n",
    "# TODO: gain a accredited cert and remove verify=False\n",
    "response = requests.post(url, json=api_json, verify=False)"
   ]
  },
  {
   "cell_type": "code",
   "execution_count": 27,
   "id": "a8968a73-f03c-4e0c-bf6c-d1e67f3bb7b8",
   "metadata": {},
   "outputs": [],
   "source": [
    "forecast_json_out = response.json()  # dict output\n",
    "# forecast_json_out = json.dumps(response.json())  # str output\n",
    "# forecast_json_out = json.dumps(response.json(), indent=4)  # str output w tabs"
   ]
  },
  {
   "cell_type": "code",
   "execution_count": 28,
   "id": "cf135123-5f75-4d74-9188-70e617f87b3b",
   "metadata": {},
   "outputs": [
    {
     "data": {
      "text/plain": [
       "{'data': [408.81848908605025,\n",
       "  356.86049531276694,\n",
       "  403.0921053947277,\n",
       "  410.26436219830794,\n",
       "  402.22893994214246,\n",
       "  464.0152296733977,\n",
       "  448.028276562658,\n",
       "  450.2235148400705,\n",
       "  514.711644044437,\n",
       "  568.8874695400227,\n",
       "  567.8693623953732,\n",
       "  499.01658140967265,\n",
       "  435.8153261151019,\n",
       "  380.2972487184252,\n",
       "  429.4210164983633,\n",
       "  436.9166746115443,\n",
       "  428.2185426645883,\n",
       "  493.836516348234,\n",
       "  476.6687267769048,\n",
       "  478.85179034873545,\n",
       "  547.2680008481257,\n",
       "  604.6818650879941,\n",
       "  603.4133298009401,\n",
       "  530.0888566161921]}"
      ]
     },
     "execution_count": 28,
     "metadata": {},
     "output_type": "execute_result"
    }
   ],
   "source": [
    "forecast_json_out"
   ]
  },
  {
   "cell_type": "markdown",
   "id": "9d42cf65-1bd5-4ef3-a48d-52d44b702040",
   "metadata": {},
   "source": [
    "Combine forecast dates and output"
   ]
  },
  {
   "cell_type": "code",
   "execution_count": 29,
   "id": "e819b0a7-4c42-4fb3-8785-057f9898f927",
   "metadata": {},
   "outputs": [],
   "source": [
    "forecast_data = list(zip(dates, forecast_json_out[\"data\"]))\n",
    "forecast_df = pd.DataFrame(forecast_data, columns = [\"ds\", \"y\"])"
   ]
  },
  {
   "cell_type": "code",
   "execution_count": 30,
   "id": "0a7c0974-5279-4186-8f37-3ae2a24c5837",
   "metadata": {},
   "outputs": [
    {
     "data": {
      "text/plain": [
       "(24, 2)"
      ]
     },
     "execution_count": 30,
     "metadata": {},
     "output_type": "execute_result"
    }
   ],
   "source": [
    "forecast_df.shape"
   ]
  },
  {
   "cell_type": "code",
   "execution_count": 31,
   "id": "f2a9507d-3127-4bec-930e-5ccd2248802e",
   "metadata": {},
   "outputs": [
    {
     "data": {
      "text/plain": [
       "Index(['ds', 'y'], dtype='object')"
      ]
     },
     "execution_count": 31,
     "metadata": {},
     "output_type": "execute_result"
    }
   ],
   "source": [
    "forecast_df.columns"
   ]
  },
  {
   "cell_type": "code",
   "execution_count": 32,
   "id": "de1a02db-f5a5-497e-aee3-08f962c664f5",
   "metadata": {},
   "outputs": [
    {
     "data": {
      "text/html": [
       "<div>\n",
       "<style scoped>\n",
       "    .dataframe tbody tr th:only-of-type {\n",
       "        vertical-align: middle;\n",
       "    }\n",
       "\n",
       "    .dataframe tbody tr th {\n",
       "        vertical-align: top;\n",
       "    }\n",
       "\n",
       "    .dataframe thead th {\n",
       "        text-align: right;\n",
       "    }\n",
       "</style>\n",
       "<table border=\"1\" class=\"dataframe\">\n",
       "  <thead>\n",
       "    <tr style=\"text-align: right;\">\n",
       "      <th></th>\n",
       "      <th>ds</th>\n",
       "      <th>y</th>\n",
       "    </tr>\n",
       "  </thead>\n",
       "  <tbody>\n",
       "    <tr>\n",
       "      <th>0</th>\n",
       "      <td>1961-01-01</td>\n",
       "      <td>408.818489</td>\n",
       "    </tr>\n",
       "    <tr>\n",
       "      <th>1</th>\n",
       "      <td>1961-02-01</td>\n",
       "      <td>356.860495</td>\n",
       "    </tr>\n",
       "    <tr>\n",
       "      <th>2</th>\n",
       "      <td>1961-03-01</td>\n",
       "      <td>403.092105</td>\n",
       "    </tr>\n",
       "    <tr>\n",
       "      <th>3</th>\n",
       "      <td>1961-04-01</td>\n",
       "      <td>410.264362</td>\n",
       "    </tr>\n",
       "    <tr>\n",
       "      <th>4</th>\n",
       "      <td>1961-05-01</td>\n",
       "      <td>402.228940</td>\n",
       "    </tr>\n",
       "  </tbody>\n",
       "</table>\n",
       "</div>"
      ],
      "text/plain": [
       "           ds           y\n",
       "0  1961-01-01  408.818489\n",
       "1  1961-02-01  356.860495\n",
       "2  1961-03-01  403.092105\n",
       "3  1961-04-01  410.264362\n",
       "4  1961-05-01  402.228940"
      ]
     },
     "execution_count": 32,
     "metadata": {},
     "output_type": "execute_result"
    }
   ],
   "source": [
    "forecast_df.head()"
   ]
  },
  {
   "cell_type": "code",
   "execution_count": 33,
   "id": "508358d2-8319-49bc-bd94-c5da97b0b7a4",
   "metadata": {},
   "outputs": [
    {
     "data": {
      "text/html": [
       "<div>\n",
       "<style scoped>\n",
       "    .dataframe tbody tr th:only-of-type {\n",
       "        vertical-align: middle;\n",
       "    }\n",
       "\n",
       "    .dataframe tbody tr th {\n",
       "        vertical-align: top;\n",
       "    }\n",
       "\n",
       "    .dataframe thead th {\n",
       "        text-align: right;\n",
       "    }\n",
       "</style>\n",
       "<table border=\"1\" class=\"dataframe\">\n",
       "  <thead>\n",
       "    <tr style=\"text-align: right;\">\n",
       "      <th></th>\n",
       "      <th>ds</th>\n",
       "      <th>y</th>\n",
       "    </tr>\n",
       "  </thead>\n",
       "  <tbody>\n",
       "    <tr>\n",
       "      <th>19</th>\n",
       "      <td>1962-08-01</td>\n",
       "      <td>478.851790</td>\n",
       "    </tr>\n",
       "    <tr>\n",
       "      <th>20</th>\n",
       "      <td>1962-09-01</td>\n",
       "      <td>547.268001</td>\n",
       "    </tr>\n",
       "    <tr>\n",
       "      <th>21</th>\n",
       "      <td>1962-10-01</td>\n",
       "      <td>604.681865</td>\n",
       "    </tr>\n",
       "    <tr>\n",
       "      <th>22</th>\n",
       "      <td>1962-11-01</td>\n",
       "      <td>603.413330</td>\n",
       "    </tr>\n",
       "    <tr>\n",
       "      <th>23</th>\n",
       "      <td>1962-12-01</td>\n",
       "      <td>530.088857</td>\n",
       "    </tr>\n",
       "  </tbody>\n",
       "</table>\n",
       "</div>"
      ],
      "text/plain": [
       "            ds           y\n",
       "19  1962-08-01  478.851790\n",
       "20  1962-09-01  547.268001\n",
       "21  1962-10-01  604.681865\n",
       "22  1962-11-01  603.413330\n",
       "23  1962-12-01  530.088857"
      ]
     },
     "execution_count": 33,
     "metadata": {},
     "output_type": "execute_result"
    }
   ],
   "source": [
    "forecast_df.tail()"
   ]
  },
  {
   "cell_type": "markdown",
   "id": "a86a090e-de22-4045-a055-45198f240e60",
   "metadata": {},
   "source": [
    "Plot train and forecast side-by-side"
   ]
  },
  {
   "cell_type": "code",
   "execution_count": 34,
   "id": "8bc95c77-c93a-422b-a7da-551c67f0418e",
   "metadata": {},
   "outputs": [
    {
     "data": {
      "image/png": "[encoded data removed]",
      "text/plain": [
       "<Figure size 1152x576 with 1 Axes>"
      ]
     },
     "metadata": {
      "needs_background": "light"
     },
     "output_type": "display_data"
    }
   ],
   "source": [
    "train_df[\"color\"] = \"b\"\n",
    "train_df.set_index(\"ds\").plot(figsize=figsize, color=train_df[\"color\"]);"
   ]
  },
  {
   "cell_type": "code",
   "execution_count": 35,
   "id": "386d8c56-bf2a-4975-821e-ca4351146041",
   "metadata": {},
   "outputs": [
    {
     "data": {
      "image/png": "[encoded data removed]",
      "text/plain": [
       "<Figure size 1152x576 with 1 Axes>"
      ]
     },
     "metadata": {
      "needs_background": "light"
     },
     "output_type": "display_data"
    }
   ],
   "source": [
    "forecast_df[\"color\"] = \"r\"\n",
    "forecast_df.set_index(\"ds\").plot(figsize=figsize, color=forecast_df[\"color\"]);"
   ]
  },
  {
   "cell_type": "markdown",
   "id": "5d09e17b-d4b1-4589-8756-d0b4e23cc532",
   "metadata": {},
   "source": [
    "Combine train and test sets"
   ]
  },
  {
   "cell_type": "code",
   "execution_count": 36,
   "id": "2372cd4f-9014-4c4f-ba2f-58718094cf09",
   "metadata": {},
   "outputs": [],
   "source": [
    "df = pd.concat([train_df, forecast_df]).reset_index(drop=True)"
   ]
  },
  {
   "cell_type": "code",
   "execution_count": 37,
   "id": "46736586-4f20-4f55-a758-148e3338a202",
   "metadata": {},
   "outputs": [
    {
     "data": {
      "text/plain": [
       "(168, 3)"
      ]
     },
     "execution_count": 37,
     "metadata": {},
     "output_type": "execute_result"
    }
   ],
   "source": [
    "df.shape"
   ]
  },
  {
   "cell_type": "code",
   "execution_count": 38,
   "id": "b7f69447-161c-4a8a-95b7-64e4f230a524",
   "metadata": {},
   "outputs": [
    {
     "data": {
      "text/html": [
       "<div>\n",
       "<style scoped>\n",
       "    .dataframe tbody tr th:only-of-type {\n",
       "        vertical-align: middle;\n",
       "    }\n",
       "\n",
       "    .dataframe tbody tr th {\n",
       "        vertical-align: top;\n",
       "    }\n",
       "\n",
       "    .dataframe thead th {\n",
       "        text-align: right;\n",
       "    }\n",
       "</style>\n",
       "<table border=\"1\" class=\"dataframe\">\n",
       "  <thead>\n",
       "    <tr style=\"text-align: right;\">\n",
       "      <th></th>\n",
       "      <th>ds</th>\n",
       "      <th>y</th>\n",
       "      <th>color</th>\n",
       "    </tr>\n",
       "  </thead>\n",
       "  <tbody>\n",
       "    <tr>\n",
       "      <th>0</th>\n",
       "      <td>1949-01-01</td>\n",
       "      <td>112.0</td>\n",
       "      <td>b</td>\n",
       "    </tr>\n",
       "    <tr>\n",
       "      <th>1</th>\n",
       "      <td>1949-02-01</td>\n",
       "      <td>118.0</td>\n",
       "      <td>b</td>\n",
       "    </tr>\n",
       "    <tr>\n",
       "      <th>2</th>\n",
       "      <td>1949-03-01</td>\n",
       "      <td>132.0</td>\n",
       "      <td>b</td>\n",
       "    </tr>\n",
       "    <tr>\n",
       "      <th>3</th>\n",
       "      <td>1949-04-01</td>\n",
       "      <td>129.0</td>\n",
       "      <td>b</td>\n",
       "    </tr>\n",
       "    <tr>\n",
       "      <th>4</th>\n",
       "      <td>1949-05-01</td>\n",
       "      <td>121.0</td>\n",
       "      <td>b</td>\n",
       "    </tr>\n",
       "  </tbody>\n",
       "</table>\n",
       "</div>"
      ],
      "text/plain": [
       "           ds      y color\n",
       "0  1949-01-01  112.0     b\n",
       "1  1949-02-01  118.0     b\n",
       "2  1949-03-01  132.0     b\n",
       "3  1949-04-01  129.0     b\n",
       "4  1949-05-01  121.0     b"
      ]
     },
     "execution_count": 38,
     "metadata": {},
     "output_type": "execute_result"
    }
   ],
   "source": [
    "df.head()"
   ]
  },
  {
   "cell_type": "code",
   "execution_count": 39,
   "id": "26c6a481-6000-4912-9fb8-875ab6ab44cc",
   "metadata": {},
   "outputs": [
    {
     "data": {
      "text/html": [
       "<div>\n",
       "<style scoped>\n",
       "    .dataframe tbody tr th:only-of-type {\n",
       "        vertical-align: middle;\n",
       "    }\n",
       "\n",
       "    .dataframe tbody tr th {\n",
       "        vertical-align: top;\n",
       "    }\n",
       "\n",
       "    .dataframe thead th {\n",
       "        text-align: right;\n",
       "    }\n",
       "</style>\n",
       "<table border=\"1\" class=\"dataframe\">\n",
       "  <thead>\n",
       "    <tr style=\"text-align: right;\">\n",
       "      <th></th>\n",
       "      <th>ds</th>\n",
       "      <th>y</th>\n",
       "      <th>color</th>\n",
       "    </tr>\n",
       "  </thead>\n",
       "  <tbody>\n",
       "    <tr>\n",
       "      <th>163</th>\n",
       "      <td>1962-08-01</td>\n",
       "      <td>478.851790</td>\n",
       "      <td>r</td>\n",
       "    </tr>\n",
       "    <tr>\n",
       "      <th>164</th>\n",
       "      <td>1962-09-01</td>\n",
       "      <td>547.268001</td>\n",
       "      <td>r</td>\n",
       "    </tr>\n",
       "    <tr>\n",
       "      <th>165</th>\n",
       "      <td>1962-10-01</td>\n",
       "      <td>604.681865</td>\n",
       "      <td>r</td>\n",
       "    </tr>\n",
       "    <tr>\n",
       "      <th>166</th>\n",
       "      <td>1962-11-01</td>\n",
       "      <td>603.413330</td>\n",
       "      <td>r</td>\n",
       "    </tr>\n",
       "    <tr>\n",
       "      <th>167</th>\n",
       "      <td>1962-12-01</td>\n",
       "      <td>530.088857</td>\n",
       "      <td>r</td>\n",
       "    </tr>\n",
       "  </tbody>\n",
       "</table>\n",
       "</div>"
      ],
      "text/plain": [
       "             ds           y color\n",
       "163  1962-08-01  478.851790     r\n",
       "164  1962-09-01  547.268001     r\n",
       "165  1962-10-01  604.681865     r\n",
       "166  1962-11-01  603.413330     r\n",
       "167  1962-12-01  530.088857     r"
      ]
     },
     "execution_count": 39,
     "metadata": {},
     "output_type": "execute_result"
    }
   ],
   "source": [
    "df.tail()"
   ]
  },
  {
   "cell_type": "markdown",
   "id": "50aa95fa-1317-4c96-af94-a3ded106e5cb",
   "metadata": {},
   "source": [
    "Plot combined train and test sets with the vertical black line as the cut-off"
   ]
  },
  {
   "cell_type": "code",
   "execution_count": 40,
   "id": "91386104-8366-42f8-9cd7-f524a108c5bb",
   "metadata": {},
   "outputs": [
    {
     "data": {
      "image/png": "[encoded data removed]",
      "text/plain": [
       "<Figure size 1152x576 with 1 Axes>"
      ]
     },
     "metadata": {
      "needs_background": "light"
     },
     "output_type": "display_data"
    }
   ],
   "source": [
    "df.set_index(\"ds\").plot(figsize=figsize, color=df[\"color\"])\n",
    "plt.axvline(x=len(train_df), color='black', label ='Train/Test set cut-off')\n",
    "plt.show();"
   ]
  },
  {
   "cell_type": "code",
   "execution_count": null,
   "id": "5ea7f1d1-e6b8-4208-b9c7-8c104ca28d4c",
   "metadata": {},
   "outputs": [],
   "source": []
  }
 ],
 "metadata": {
  "kernelspec": {
   "display_name": "dev:Python",
   "language": "python",
   "name": "conda-env-dev-py"
  },
  "language_info": {
   "codemirror_mode": {
    "name": "ipython",
    "version": 3
   },
   "file_extension": ".py",
   "mimetype": "text/x-python",
   "name": "python",
   "nbconvert_exporter": "python",
   "pygments_lexer": "ipython3",
   "version": "3.9.12"
  }
 },
 "nbformat": 4,
 "nbformat_minor": 5
}
